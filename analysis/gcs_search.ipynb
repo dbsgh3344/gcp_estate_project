{
 "cells": [
  {
   "cell_type": "code",
   "execution_count": 3,
   "id": "f2316303-9acc-4cd5-8f7e-a09762904d48",
   "metadata": {},
   "outputs": [],
   "source": [
    "from google.cloud import storage\n",
    "\n",
    "# Create a client object to connect to your GCS bucket\n",
    "client = storage.Client()\n",
    "bucket = client.get_bucket('estate_bucket')"
   ]
  },
  {
   "cell_type": "code",
   "execution_count": 35,
   "id": "71470cc2-9ec8-4ffc-b6d7-00e49b5ab80a",
   "metadata": {},
   "outputs": [],
   "source": [
    "import os\n",
    "import sys\n",
    "import shutil\n",
    "dt = set()\n",
    "for i in bucket.list_blobs():\n",
    "    file = i.name.split('/')[2]\n",
    "    \n",
    "    if os.path.splitext(file)[1] == '.csv':\n",
    "        file_dt = i.name.split('_')[0]\n",
    "        # print(file_dt)\n",
    "        os.makedirs(file_dt,exist_ok=True)\n",
    "        dst_path =os.path.join(file_dt,file)\n",
    "        # dst_blob = bucket.blob(dst_path)\n",
    "        \n",
    "        # blob = bucket.blob(i.name)\n",
    "        bucket.rename_blob(blob,dst_path)\n",
    "        print(f'success {i.name}')\n",
    "        \n",
    "    "
   ]
  },
  {
   "cell_type": "code",
   "execution_count": 53,
   "id": "fddc58fe-e4df-4c20-b688-19291c6dad07",
   "metadata": {},
   "outputs": [],
   "source": [
    "for i in bucket.list_blobs():\n",
    "    if '/estate/songdo' in i.name :\n",
    "        dst_path = i.name[1:]\n",
    "        # blob = bucket.blob(dst_path)\n",
    "        bucket.rename_blob(i,dst_path)"
   ]
  },
  {
   "cell_type": "code",
   "execution_count": 4,
   "id": "90028724-4d8f-42b6-acbb-562bf18168ac",
   "metadata": {},
   "outputs": [
    {
     "data": {
      "text/plain": [
       "'estate/songdo/20230426'"
      ]
     },
     "execution_count": 4,
     "metadata": {},
     "output_type": "execute_result"
    }
   ],
   "source": [
    "blob = bucket.blob('estate/songdo/20230426')\n",
    "blob.name"
   ]
  },
  {
   "cell_type": "code",
   "execution_count": null,
   "id": "07abf824-03f2-41b0-8766-819bbaff6922",
   "metadata": {},
   "outputs": [],
   "source": [
    "import traceback\n",
    "import pandas as pd \n",
    "from io import BytesIO\n",
    "for i in bucket.list_blobs():\n",
    "    if i.name.startswith('estate/songdo/20230501'):\n",
    "        b= i.download_as_string()     \n",
    "        # csv =i.download_to_file()\n",
    "        csv =BytesIO(b)\n",
    "        try :\n",
    "            file =pd.read_csv(csv)\n",
    "            print(list(file.columns),i.name)\n",
    "        except :\n",
    "            # print(traceback.format_exc())\n",
    "            i.delete()\n",
    "            print(f'remove {i.name}')\n",
    "            \n",
    "            "
   ]
  },
  {
   "cell_type": "code",
   "execution_count": 17,
   "id": "382394e1-a643-4a3f-afb0-8870e30d58f7",
   "metadata": {},
   "outputs": [],
   "source": [
    "# 폴더 이름 변경\n",
    "import os\n",
    "for i in bucket.list_blobs() :\n",
    "    root = 'estate/songdo/20230421'\n",
    "    # re_root = 'estate/songdo/20230425'\n",
    "    if i.name.startswith(root) :\n",
    "        # print(i.name)\n",
    "        file_dt = os.path.basename(i.name).split('_')[0]\n",
    "        rename = f'estate/songdo/{file_dt}/{os.path.basename(i.name)}'\n",
    "        # print(rename)\n",
    "        bucket.rename_blob(i,rename)\n",
    "\n"
   ]
  }
 ],
 "metadata": {
  "kernelspec": {
   "display_name": "Python 3.10.6 ('gcp_env')",
   "language": "python",
   "name": "python3"
  },
  "language_info": {
   "codemirror_mode": {
    "name": "ipython",
    "version": 3
   },
   "file_extension": ".py",
   "mimetype": "text/x-python",
   "name": "python",
   "nbconvert_exporter": "python",
   "pygments_lexer": "ipython3",
   "version": "3.10.6"
  },
  "vscode": {
   "interpreter": {
    "hash": "9c3e1b1706f496d21b931c39522f8991c568badae8a101d8b22f0fab6ae4c100"
   }
  }
 },
 "nbformat": 4,
 "nbformat_minor": 5
}
